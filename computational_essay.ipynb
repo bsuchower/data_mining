{
 "cells": [
  {
   "cell_type": "markdown",
   "metadata": {},
   "source": [
    "# Generating Song Lyrics"
   ]
  },
  {
   "cell_type": "markdown",
   "metadata": {},
   "source": [
    "Author: **Becca Suchower**"
   ]
  },
  {
   "cell_type": "markdown",
   "metadata": {},
   "source": [
    "Run the cell below each time the notebook is started or restarted to ensure that if you change any code in the library, this notebook will use the latest version of the library code."
   ]
  },
  {
   "cell_type": "code",
   "execution_count": 24,
   "metadata": {},
   "outputs": [
    {
     "name": "stdout",
     "output_type": "stream",
     "text": [
      "The autoreload extension is already loaded. To reload it, use:\n",
      "  %reload_ext autoreload\n"
     ]
    }
   ],
   "source": [
    "%load_ext autoreload\n",
    "%autoreload 2"
   ]
  },
  {
   "cell_type": "markdown",
   "metadata": {},
   "source": [
    "Import all functions for scraping the lyrics data and generating lyrics using a Markov chain."
   ]
  },
  {
   "cell_type": "code",
   "execution_count": 25,
   "metadata": {},
   "outputs": [],
   "source": [
    "from lyrics_scraping import *\n",
    "from first_order_markov import *\n",
    "from second_order_markov import *"
   ]
  },
  {
   "cell_type": "markdown",
   "metadata": {},
   "source": [
    "# Introduction"
   ]
  },
  {
   "cell_type": "markdown",
   "metadata": {},
   "source": [
    "The goal of this project was to generate new song lyrics using a Markov chain, based on the lyrics of existing songs. I focused on identifying what have been defined as \"great\" songs, and generating lyrics from that to see if similarly great song lyrics could be produced. This project specifically gathered songs from [Rolling Stone's \"500 Greatest Songs of All Time\"](https://www.rollingstone.com/music/music-lists/500-greatest-songs-of-all-time-151127/) list, published in 2003. I found this to be an important topic to explore, since many aspiring songwriters and composers could use randomly generated sample lyrics like these for inspiration or a jumping off point for their own projects.  \n",
    "\n",
    "I used a language-based Markov chain in order to generate the song lyrics. Markov chains are mathematical systems that describe a sequence of events, which allows switching between states (which can include situations or sets of values). In terms of text generation, Markov chains can be used to identify which words follow others in a sequence, and can randomly choose words along this chain to generate a new text. I used both a first-order and second-order Markov chain in this project, in order to compare the results from each approach. The difference between these two models is that the first-order Markov chain only looks at the following word, while a second-order model looks at the next two words.  \n",
    "\n",
    "This project can successfully scrape lots of lyrics data from online lyrics websites, and can generate text based on these lyrics. There is room in the future to extend this project to focus more heavily on sentence structure and song structure when generating lyrics.\n"
   ]
  },
  {
   "cell_type": "markdown",
   "metadata": {},
   "source": [
    "# Methodology"
   ]
  },
  {
   "cell_type": "markdown",
   "metadata": {},
   "source": [
    "There were two scraping processes I used to get the final data into a form I could analyze it. The first was gathering a list of song titles and artist names that I could use to collect the lyrics for, by programmatically downloading this data. Although the Rolling Stone website linked above contained both the song titles and artist names for 500 songs, I found that the website's structure was difficult to navigate, and therefore more difficult to scrape from. Luckily, this list is reprinted on several other websites, and I chose to scrape from [Dave Tompkins' music database](https://www.cs.ubc.ca/~davet/music/list/Best9.html), which contains the 500 song titles, artist names, and other relevant pieces of information in a table format.  \n",
    "\n",
    "The function `get_song_list`, called below, requests HTML data from the website using the Beautiful Soup library, navigates the table structure on the website, and adds the song titles and artist names to a dataframe. This dataframe is then written to a csv file called `song_data.csv` using Pandas, which appears in the main folder of the project directory."
   ]
  },
  {
   "cell_type": "code",
   "execution_count": 2,
   "metadata": {},
   "outputs": [],
   "source": [
    "get_song_list(\"https://www.cs.ubc.ca/~davet/music/list/Best9.html\")"
   ]
  },
  {
   "cell_type": "markdown",
   "metadata": {},
   "source": [
    "The second scraping process was to programmatically download the text of song lyrics for each song from [AZ Lyrics](https://www.azlyrics.com/). However, I had to first get the data for song titles and artist names into a format that could be put into a url for AZ Lyrics. AZ Lyrics has a standard format for their urls that looks like:   \n",
    "\n",
    "https://www.azlyrics.com/lyrics/artist_name/song_title.html  \n",
    "\n",
    "However, punctuation, spaces, and uppercase letters cannot be included in the urls. The function `clean_song_data`, called below, removes all unecessary punctuation and spaces, and converts uppercase letters to lowercase. The index of the new dataframe starts at 2 since unecessary rows were also removed in this function."
   ]
  },
  {
   "cell_type": "code",
   "execution_count": 5,
   "metadata": {},
   "outputs": [
    {
     "data": {
      "text/html": [
       "<div>\n",
       "<style scoped>\n",
       "    .dataframe tbody tr th:only-of-type {\n",
       "        vertical-align: middle;\n",
       "    }\n",
       "\n",
       "    .dataframe tbody tr th {\n",
       "        vertical-align: top;\n",
       "    }\n",
       "\n",
       "    .dataframe thead th {\n",
       "        text-align: right;\n",
       "    }\n",
       "</style>\n",
       "<table border=\"1\" class=\"dataframe\">\n",
       "  <thead>\n",
       "    <tr style=\"text-align: right;\">\n",
       "      <th></th>\n",
       "      <th>artist</th>\n",
       "      <th>title</th>\n",
       "    </tr>\n",
       "  </thead>\n",
       "  <tbody>\n",
       "    <tr>\n",
       "      <th>2</th>\n",
       "      <td>bobdylan</td>\n",
       "      <td>likearollingstone</td>\n",
       "    </tr>\n",
       "    <tr>\n",
       "      <th>3</th>\n",
       "      <td>therollingstones</td>\n",
       "      <td>satisfaction</td>\n",
       "    </tr>\n",
       "    <tr>\n",
       "      <th>4</th>\n",
       "      <td>johnlennon</td>\n",
       "      <td>imagine</td>\n",
       "    </tr>\n",
       "    <tr>\n",
       "      <th>5</th>\n",
       "      <td>marvingaye</td>\n",
       "      <td>whatsgoingon</td>\n",
       "    </tr>\n",
       "    <tr>\n",
       "      <th>6</th>\n",
       "      <td>arethafranklin</td>\n",
       "      <td>respect</td>\n",
       "    </tr>\n",
       "  </tbody>\n",
       "</table>\n",
       "</div>"
      ],
      "text/plain": [
       "             artist              title\n",
       "2          bobdylan  likearollingstone\n",
       "3  therollingstones       satisfaction\n",
       "4        johnlennon            imagine\n",
       "5        marvingaye       whatsgoingon\n",
       "6    arethafranklin            respect"
      ]
     },
     "execution_count": 5,
     "metadata": {},
     "output_type": "execute_result"
    }
   ],
   "source": [
    "cleaned_data = clean_song_data(\"song_data.csv\")\n",
    "cleaned_data.head()"
   ]
  },
  {
   "cell_type": "markdown",
   "metadata": {},
   "source": [
    "Although the new text for artist names and song titles can easily be put into urls for AZ Lyrics, there are still a few discrepancies from how AZ Lyrics chooses to format its text. For example, the word \"the\" could be added or removed for artist names, additional artist names may not be included in the url, and the word \"and\" could be used instead of the ampersand character \"&\". Additionally, a couple fully instrumental songs were included in Rolling Stone's list, which obviously do not have a relevant page in AZ Lyrics. Because of this, urls without a match on AZ Lyrics do not gather lyrics data, so the final list of songs used to generate lyrics is slightly less than 500 songs.  \n",
    "\n",
    "The function `create_lyrics_files`, called below, takes the list of urls generated from `song_data.csv`, makes a request to each page, and scrapes the text of the lyrics from each page. It then creates a new text file for each song and writes the lyrics text to a file, contained in the `data` folder within this project directory. I found that it was best to specify the range of urls to request from (in this case, urls 50-100) since requesting 500 pages in quick succession tended to cause me to lose access to the AZ Lyrics website."
   ]
  },
  {
   "cell_type": "code",
   "execution_count": 6,
   "metadata": {},
   "outputs": [],
   "source": [
    "create_lyrics_files(\"song_data.csv\", 50, 100)"
   ]
  },
  {
   "cell_type": "markdown",
   "metadata": {},
   "source": [
    "Once I had the data for 50 or so songs in the `data` folder, I was able to start generating lyrics using the first-order and second-order Markov chain functions. I first had to combine all the lyrics files in the `data` folder, in order to have a complete string that contained the text for all the songs. This was accomplished with the `combine_files` function, which combines the text of all the files contained within a specified folder. "
   ]
  },
  {
   "cell_type": "code",
   "execution_count": 7,
   "metadata": {},
   "outputs": [],
   "source": [
    "source_text = combine_files(\"data/\")"
   ]
  },
  {
   "cell_type": "markdown",
   "metadata": {},
   "source": [
    "Next, the text is split into individual words as a list, using the function `build_word_list`."
   ]
  },
  {
   "cell_type": "code",
   "execution_count": 8,
   "metadata": {},
   "outputs": [],
   "source": [
    "word_list = build_word_list(source_text)"
   ]
  },
  {
   "cell_type": "markdown",
   "metadata": {},
   "source": [
    "For the first-order implementation, a dictionary of \"next words\" is produced with the `\"build_next_words_1` function. The final text is generated with the `generate_text` function, where the number of sentences are specified. Similarly, a dictionary of the next two words is produced with the `build_next_words_2` function within the `second_order_markov.py` file. The lyrics are produced with the `generate_lyrics` function for the second order implementation."
   ]
  },
  {
   "cell_type": "markdown",
   "metadata": {},
   "source": [
    "# Results"
   ]
  },
  {
   "cell_type": "markdown",
   "metadata": {},
   "source": [
    "The following cells visualize the data as randomly generated lyrics. The results for the first-order Markov implementation are shown below:"
   ]
  },
  {
   "cell_type": "code",
   "execution_count": 40,
   "metadata": {},
   "outputs": [
    {
     "name": "stdout",
     "output_type": "stream",
     "text": [
      "I love\n",
      " The wind\n",
      " The whole lotta love\n",
      " Gonna give me some fun tonight\n",
      " We can offer girl put a dollar\n",
      " Every time coming\n",
      " But the back\n",
      " If you make me of her side\n",
      " You hear your lovin' and maybe\n",
      " I can swim\n",
      " Like it\n",
      " I knew before\n",
      " But, darling, what a crazy for one day when you can't see\n",
      " He claims that\n",
      " I use a rag doll\n",
      " I've known proves that\n",
      " I'm afraid to be careful of her say you drive me and a long, a whole lotta love you do with black cat\n",
      " To\n",
      " The kids are dried up on my baby, baby, and happiness)\n",
      " Love'll make you get it feels good, yeah\n",
      " I go\n",
      " Hey ho, let's rock.\n",
      "\n",
      "None\n"
     ]
    }
   ],
   "source": [
    "next_words_1 = build_next_words_1(word_list)\n",
    "num_sentences = 1\n",
    "first_order_lyrics = generate_text(next_words_1, num_sentences)\n",
    "print(first_order_lyrics)"
   ]
  },
  {
   "cell_type": "markdown",
   "metadata": {},
   "source": [
    "The results for the second-order Markov implementation are shown below:"
   ]
  },
  {
   "cell_type": "code",
   "execution_count": 32,
   "metadata": {},
   "outputs": [
    {
     "name": "stdout",
     "output_type": "stream",
     "text": [
      "been waiting so long\n",
      " To be where\n",
      " I'm going\n",
      " In the sunshine of your body covers me\n",
      " Can you my love\n",
      " It's the morning and just we two\n",
      " I'll stay with you darling soon\n",
      " I'll be with you darling now\n",
      " I'll stay with you my love\n",
      " Yeah!\n",
      " All\n",
      "None\n"
     ]
    }
   ],
   "source": [
    "next_words_2 = build_next_words_2(word_list)\n",
    "second_order_lyrics = generate_lyrics(next_words_2, word_list)\n",
    "print(second_order_lyrics)"
   ]
  },
  {
   "cell_type": "markdown",
   "metadata": {},
   "source": [
    "It is interesting to note that both sets of generated lyrics have a wide variation in line length. This is because program is designed to insert a line break once the \"next word\" would contain an uppercase letter as the first letter, signifying a new sentence.  \n",
    "\n",
    "When comparing the results from the first and second order Markov implementations, I found that the first-order implementation succeeded more at writing original lines than the second-order version. This is because the second-order version is better at predicting which words should come next in the sequence, but this poses an issue with song lyrics since some generated lines were very close to the original lyrics. I found that sometimes generated lines or phrases were almost verbatim with the original sample lyrics, which loses some originality in this version.\n",
    "\n",
    "These visualizations show that it is possible to generate lyrics based on previously written songs, but they do not necessarily follow a typical song structure with verses and choruses. The lyrics are also lacking in a consistent theme or meaning, and they read as pretty nonsensical. However, the text that is generated could still inspire a songwriter to expand upon lines generated with this program."
   ]
  },
  {
   "cell_type": "markdown",
   "metadata": {},
   "source": [
    "# Conclusion"
   ]
  },
  {
   "cell_type": "markdown",
   "metadata": {},
   "source": [
    "I think the most important insight from this project is shown by the differences in output for the first and second order Markov implementations. The first-order lyrics are much more original, since the second-order lyrics sometimes follow a bit too closely with the original lyrics. This could pose an ethical concern because of the possibility of plagiarism. If the generated lyrics are too close to the originals, or copy lines very closely, the original artist's work would have been plagiarized. One solution to this could be a function that compares the generated lyrics to the original lyrics and checks for similarities.\n",
    "\n",
    "As I worked on this project, I learned a lot in the process, especially when working with Beautiful Soup and webpage scraping for the first time. First, I learned that making a large number of requests (like 500) from the same website at once looks like suspicious activity to certain websites. I lost access to AZ Lyrics several times due to the large number of requests I was making, until I requested a smaller number of pages at a time. I also found that when using Beautiful Soup, some websites are easier to navigate/get data from than others based on their HTML structure, which lead to the decision to scrape the list of songs from a website that was not the original Rolling Stone site. I also learned that although links for similar pages may seem to be formatted the same, there may be some discrepancies that can either be ignored or accounted for, and there are tradeoffs either way.  \n",
    "\n",
    "I found that most parts of the implementation for this project were challenging to me, since I had not done such extensive web scraping before and I was unfamiliar with HTML structures. The process of downloading, cleaning, and storing the song data used a lot more steps than I had originally anticipated, and it was a challenge to reason through the process and get the data into a format that I could use. The second-order Markov chain implementation was also a challenge for me, given the additional complexity compared to the first-order version.\n",
    "\n",
    "If I had more time, I would extend this project in a number of ways. I would want to explore generating lines with a certain sentence structure, and to incorporate song structure into the program. It would be interesting to analyze where songs repeat certain phrases or blocks of text (like a chorus) and add similar repetition in the generated lyrics to imitate a verse/chorus structure. Finally, I might also look at only songs for a particular artist or genre in order to possibly get better results. Although the list of songs I looked at was exntensive, there wasn't really any cohesive theme tying them together, so a more narrow range of lyric styles may produce better generated results."
   ]
  }
 ],
 "metadata": {
  "kernelspec": {
   "display_name": "Python 3",
   "language": "python",
   "name": "python3"
  },
  "language_info": {
   "codemirror_mode": {
    "name": "ipython",
    "version": 3
   },
   "file_extension": ".py",
   "mimetype": "text/x-python",
   "name": "python",
   "nbconvert_exporter": "python",
   "pygments_lexer": "ipython3",
   "version": "3.8.3"
  }
 },
 "nbformat": 4,
 "nbformat_minor": 4
}
